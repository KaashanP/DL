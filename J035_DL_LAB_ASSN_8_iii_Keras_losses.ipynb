{
  "nbformat": 4,
  "nbformat_minor": 0,
  "metadata": {
    "colab": {
      "name": "J035_DL_LAB_ASSN-8_iii_Keras_losses.ipynb",
      "provenance": [],
      "authorship_tag": "ABX9TyP8KflswAtp1MZJLdgrBise",
      "include_colab_link": true
    },
    "kernelspec": {
      "name": "python3",
      "display_name": "Python 3"
    },
    "accelerator": "GPU"
  },
  "cells": [
    {
      "cell_type": "markdown",
      "metadata": {
        "id": "view-in-github",
        "colab_type": "text"
      },
      "source": [
        "<a href=\"https://colab.research.google.com/github/KaashanP/DL/blob/master/J035_DL_LAB_ASSN_8_iii_Keras_losses.ipynb\" target=\"_parent\"><img src=\"https://colab.research.google.com/assets/colab-badge.svg\" alt=\"Open In Colab\"/></a>"
      ]
    },
    {
      "cell_type": "markdown",
      "metadata": {
        "id": "YVMjQqwHP96l",
        "colab_type": "text"
      },
      "source": [
        "#Usage of loss functions\n",
        "A loss function (or objective function, or optimization score function) is one of the two parameters required to compile a model:\n",
        "\n",
        "model.compile(loss='mean_squared_error', optimizer='sgd')\n",
        "\n",
        "from keras import losses\n",
        "model.compile(loss=losses.mean_squared_error, optimizer='sgd')\n",
        "You can either pass the name of an existing loss function, or pass a TensorFlow/Theano symbolic function that returns a scalar for each data-point and takes the following two arguments:\n",
        "\n",
        "y_true: True labels. TensorFlow/Theano tensor.\n",
        "y_pred: Predictions. TensorFlow/Theano tensor of the same shape as y_true.\n",
        "The actual optimized objective is the mean of the output array across all datapoints."
      ]
    },
    {
      "cell_type": "code",
      "metadata": {
        "id": "jskwCPg_NGRv",
        "colab_type": "code",
        "colab": {
          "base_uri": "https://localhost:8080/",
          "height": 70
        },
        "outputId": "b332a63d-a707-4369-f8d8-15d0831ac079"
      },
      "source": [
        "import keras\n",
        "from keras import models\n",
        "from keras.layers import Dense, Dropout\n",
        "from keras.utils import to_categorical\n",
        "from keras.datasets import mnist\n",
        "from keras.utils.vis_utils import model_to_dot\n",
        "from IPython.display import SVG\n",
        "\n",
        "NUM_ROWS = 28\n",
        "NUM_COLS = 28\n",
        "NUM_CLASSES = 10\n",
        "BATCH_SIZE = 128\n",
        "EPOCHS = 10\n",
        "\n",
        "# Load data\n",
        "(X_train, y_train), (X_test, y_test) = mnist.load_data()\n",
        "\n",
        "# Reshape data\n",
        "X_train = X_train.reshape((X_train.shape[0], NUM_ROWS * NUM_COLS))\n",
        "X_train = X_train.astype('float32') / 255\n",
        "X_test = X_test.reshape((X_test.shape[0], NUM_ROWS * NUM_COLS))\n",
        "X_test = X_test.astype('float32') / 255\n",
        "\n",
        "# Categorically encode labels\n",
        "y_train = to_categorical(y_train, NUM_CLASSES)\n",
        "y_test = to_categorical(y_test, NUM_CLASSES)\n",
        "\n",
        "\n",
        "# Build neural network\n",
        "model = models.Sequential()\n",
        "model.add(Dense(512, activation='elu', input_shape=(NUM_ROWS * NUM_COLS,)))\n",
        "model.add(Dense(256, activation='elu'))\n",
        "model.add(Dense(10, activation='softmax'))"
      ],
      "execution_count": 1,
      "outputs": [
        {
          "output_type": "stream",
          "text": [
            "Using TensorFlow backend.\n"
          ],
          "name": "stderr"
        },
        {
          "output_type": "stream",
          "text": [
            "Downloading data from https://s3.amazonaws.com/img-datasets/mnist.npz\n",
            "11493376/11490434 [==============================] - 0s 0us/step\n"
          ],
          "name": "stdout"
        }
      ]
    },
    {
      "cell_type": "markdown",
      "metadata": {
        "id": "FtF6V87EQMbk",
        "colab_type": "text"
      },
      "source": [
        "#mean_squared_error\n",
        "keras.losses.mean_squared_error(y_true, y_pred)"
      ]
    },
    {
      "cell_type": "code",
      "metadata": {
        "id": "lJYqkf75OyuW",
        "colab_type": "code",
        "colab": {
          "base_uri": "https://localhost:8080/",
          "height": 426
        },
        "outputId": "a219367a-0321-423c-934e-50d093642063"
      },
      "source": [
        "# Compile model using accuracy\n",
        "model.compile(optimizer='rmsprop',\n",
        "              loss='mean_squared_error',\n",
        "              metrics=['accuracy'])\n",
        "\n",
        "# Train model\n",
        "model.fit(X_train, y_train,\n",
        "          batch_size=BATCH_SIZE,\n",
        "          epochs=EPOCHS,\n",
        "          verbose=1,\n",
        "          validation_data=(X_test, y_test))\n",
        "\n",
        "score = model.evaluate(X_test, y_test, verbose=0)\n",
        "print('Test loss:', score[0])\n",
        "print('Test accuracy:', score[1])"
      ],
      "execution_count": 2,
      "outputs": [
        {
          "output_type": "stream",
          "text": [
            "Train on 60000 samples, validate on 10000 samples\n",
            "Epoch 1/10\n",
            "60000/60000 [==============================] - 3s 54us/step - loss: 0.0177 - accuracy: 0.8830 - val_loss: 0.0127 - val_accuracy: 0.9160\n",
            "Epoch 2/10\n",
            "60000/60000 [==============================] - 2s 25us/step - loss: 0.0074 - accuracy: 0.9522 - val_loss: 0.0058 - val_accuracy: 0.9620\n",
            "Epoch 3/10\n",
            "60000/60000 [==============================] - 2s 27us/step - loss: 0.0052 - accuracy: 0.9664 - val_loss: 0.0047 - val_accuracy: 0.9700\n",
            "Epoch 4/10\n",
            "60000/60000 [==============================] - 2s 26us/step - loss: 0.0042 - accuracy: 0.9738 - val_loss: 0.0051 - val_accuracy: 0.9674\n",
            "Epoch 5/10\n",
            "60000/60000 [==============================] - 2s 27us/step - loss: 0.0035 - accuracy: 0.9773 - val_loss: 0.0041 - val_accuracy: 0.9735\n",
            "Epoch 6/10\n",
            "60000/60000 [==============================] - 1s 25us/step - loss: 0.0032 - accuracy: 0.9802 - val_loss: 0.0038 - val_accuracy: 0.9765\n",
            "Epoch 7/10\n",
            "60000/60000 [==============================] - 1s 24us/step - loss: 0.0028 - accuracy: 0.9829 - val_loss: 0.0038 - val_accuracy: 0.9767\n",
            "Epoch 8/10\n",
            "60000/60000 [==============================] - 1s 25us/step - loss: 0.0025 - accuracy: 0.9849 - val_loss: 0.0041 - val_accuracy: 0.9743\n",
            "Epoch 9/10\n",
            "60000/60000 [==============================] - 1s 25us/step - loss: 0.0023 - accuracy: 0.9860 - val_loss: 0.0040 - val_accuracy: 0.9761\n",
            "Epoch 10/10\n",
            "60000/60000 [==============================] - 2s 25us/step - loss: 0.0021 - accuracy: 0.9867 - val_loss: 0.0035 - val_accuracy: 0.9785\n",
            "Test loss: 0.003452813640993464\n",
            "Test accuracy: 0.9785000085830688\n"
          ],
          "name": "stdout"
        }
      ]
    },
    {
      "cell_type": "markdown",
      "metadata": {
        "id": "x01XA1kCQUjp",
        "colab_type": "text"
      },
      "source": [
        "#mean_absolute_error\n",
        "keras.losses.mean_absolute_error(y_true, y_pred)"
      ]
    },
    {
      "cell_type": "code",
      "metadata": {
        "id": "xxIbUzZLO0VP",
        "colab_type": "code",
        "colab": {
          "base_uri": "https://localhost:8080/",
          "height": 426
        },
        "outputId": "f3b2e445-0e4b-4319-c523-10657cf85b9c"
      },
      "source": [
        "# Compile model using accuracy\n",
        "model.compile(optimizer='rmsprop',\n",
        "              loss='mean_absolute_error',\n",
        "              metrics=['accuracy'])\n",
        "\n",
        "# Train model\n",
        "model.fit(X_train, y_train,\n",
        "          batch_size=BATCH_SIZE,\n",
        "          epochs=EPOCHS,\n",
        "          verbose=1,\n",
        "          validation_data=(X_test, y_test))\n",
        "\n",
        "score = model.evaluate(X_test, y_test, verbose=0)\n",
        "print('Test loss:', score[0])\n",
        "print('Test accuracy:', score[1])"
      ],
      "execution_count": 3,
      "outputs": [
        {
          "output_type": "stream",
          "text": [
            "Train on 60000 samples, validate on 10000 samples\n",
            "Epoch 1/10\n",
            "60000/60000 [==============================] - 2s 28us/step - loss: 0.0025 - accuracy: 0.9893 - val_loss: 0.0045 - val_accuracy: 0.9793\n",
            "Epoch 2/10\n",
            "60000/60000 [==============================] - 2s 25us/step - loss: 0.0022 - accuracy: 0.9898 - val_loss: 0.0047 - val_accuracy: 0.9782\n",
            "Epoch 3/10\n",
            "60000/60000 [==============================] - 1s 25us/step - loss: 0.0021 - accuracy: 0.9904 - val_loss: 0.0042 - val_accuracy: 0.9797\n",
            "Epoch 4/10\n",
            "60000/60000 [==============================] - 1s 25us/step - loss: 0.0019 - accuracy: 0.9915 - val_loss: 0.0045 - val_accuracy: 0.9784\n",
            "Epoch 5/10\n",
            "60000/60000 [==============================] - 1s 24us/step - loss: 0.0017 - accuracy: 0.9921 - val_loss: 0.0041 - val_accuracy: 0.9792\n",
            "Epoch 6/10\n",
            "60000/60000 [==============================] - 1s 24us/step - loss: 0.0015 - accuracy: 0.9930 - val_loss: 0.0042 - val_accuracy: 0.9789\n",
            "Epoch 7/10\n",
            "60000/60000 [==============================] - 1s 25us/step - loss: 0.0015 - accuracy: 0.9931 - val_loss: 0.0040 - val_accuracy: 0.9803\n",
            "Epoch 8/10\n",
            "60000/60000 [==============================] - 1s 24us/step - loss: 0.0015 - accuracy: 0.9930 - val_loss: 0.0038 - val_accuracy: 0.9811\n",
            "Epoch 9/10\n",
            "60000/60000 [==============================] - 1s 24us/step - loss: 0.0014 - accuracy: 0.9934 - val_loss: 0.0041 - val_accuracy: 0.9798\n",
            "Epoch 10/10\n",
            "60000/60000 [==============================] - 1s 25us/step - loss: 0.0013 - accuracy: 0.9942 - val_loss: 0.0048 - val_accuracy: 0.9763\n",
            "Test loss: 0.0047585342688049835\n",
            "Test accuracy: 0.9763000011444092\n"
          ],
          "name": "stdout"
        }
      ]
    },
    {
      "cell_type": "markdown",
      "metadata": {
        "id": "QAZDwHKHQXIZ",
        "colab_type": "text"
      },
      "source": [
        "#mean_absolute_percentage_error\n",
        "keras.losses.mean_absolute_percentage_error(y_true, y_pred)"
      ]
    },
    {
      "cell_type": "code",
      "metadata": {
        "id": "IPKotljpO0Zs",
        "colab_type": "code",
        "colab": {
          "base_uri": "https://localhost:8080/",
          "height": 426
        },
        "outputId": "f9f6915b-010d-4784-80e8-2b91907ef7fe"
      },
      "source": [
        "# Compile model using accuracy\n",
        "model.compile(optimizer='rmsprop',\n",
        "              loss='mean_absolute_percentage_error',\n",
        "              metrics=['accuracy'])\n",
        "\n",
        "# Train model\n",
        "model.fit(X_train, y_train,\n",
        "          batch_size=BATCH_SIZE,\n",
        "          epochs=EPOCHS,\n",
        "          verbose=1,\n",
        "          validation_data=(X_test, y_test))\n",
        "\n",
        "score = model.evaluate(X_test, y_test, verbose=0)\n",
        "print('Test loss:', score[0])\n",
        "print('Test accuracy:', score[1])"
      ],
      "execution_count": 4,
      "outputs": [
        {
          "output_type": "stream",
          "text": [
            "Train on 60000 samples, validate on 10000 samples\n",
            "Epoch 1/10\n",
            "60000/60000 [==============================] - 2s 27us/step - loss: 669932.3527 - accuracy: 0.9936 - val_loss: 1840028.0792 - val_accuracy: 0.9825\n",
            "Epoch 2/10\n",
            "60000/60000 [==============================] - 2s 26us/step - loss: 603425.4945 - accuracy: 0.9942 - val_loss: 1897110.7842 - val_accuracy: 0.9814\n",
            "Epoch 3/10\n",
            "60000/60000 [==============================] - 2s 26us/step - loss: 600518.1626 - accuracy: 0.9943 - val_loss: 1879857.8630 - val_accuracy: 0.9813\n",
            "Epoch 4/10\n",
            "60000/60000 [==============================] - 1s 24us/step - loss: 584797.6304 - accuracy: 0.9944 - val_loss: 2223683.8608 - val_accuracy: 0.9779\n",
            "Epoch 5/10\n",
            "60000/60000 [==============================] - 2s 25us/step - loss: 554826.3032 - accuracy: 0.9946 - val_loss: 2040077.7639 - val_accuracy: 0.9799\n",
            "Epoch 6/10\n",
            "60000/60000 [==============================] - 2s 27us/step - loss: 538534.9440 - accuracy: 0.9948 - val_loss: 1876266.0430 - val_accuracy: 0.9811\n",
            "Epoch 7/10\n",
            "60000/60000 [==============================] - 2s 27us/step - loss: 476195.7262 - accuracy: 0.9954 - val_loss: 1875190.7789 - val_accuracy: 0.9818\n",
            "Epoch 8/10\n",
            "60000/60000 [==============================] - 2s 27us/step - loss: 526495.4635 - accuracy: 0.9948 - val_loss: 1787351.5250 - val_accuracy: 0.9826\n",
            "Epoch 9/10\n",
            "60000/60000 [==============================] - 2s 27us/step - loss: 495646.9984 - accuracy: 0.9952 - val_loss: 1934408.5356 - val_accuracy: 0.9811\n",
            "Epoch 10/10\n",
            "60000/60000 [==============================] - 2s 26us/step - loss: 467899.2658 - accuracy: 0.9955 - val_loss: 2084388.6456 - val_accuracy: 0.9795\n",
            "Test loss: 2084388.6540157262\n",
            "Test accuracy: 0.9794999957084656\n"
          ],
          "name": "stdout"
        }
      ]
    },
    {
      "cell_type": "markdown",
      "metadata": {
        "id": "EsUFs7wxQdlK",
        "colab_type": "text"
      },
      "source": [
        "#mean_squared_logarithmic_error\n",
        "keras.losses.mean_squared_logarithmic_error(y_true, y_pred)"
      ]
    },
    {
      "cell_type": "code",
      "metadata": {
        "id": "Q4P7ynE1O0dV",
        "colab_type": "code",
        "colab": {
          "base_uri": "https://localhost:8080/",
          "height": 426
        },
        "outputId": "a3f629bd-6697-4da1-ca65-9cfd9a68fcdf"
      },
      "source": [
        "# Compile model using accuracy\n",
        "model.compile(optimizer='rmsprop',\n",
        "              loss='mean_squared_logarithmic_error',\n",
        "              metrics=['accuracy'])\n",
        "\n",
        "# Train model\n",
        "model.fit(X_train, y_train,\n",
        "          batch_size=BATCH_SIZE,\n",
        "          epochs=EPOCHS,\n",
        "          verbose=1,\n",
        "          validation_data=(X_test, y_test))\n",
        "\n",
        "score = model.evaluate(X_test, y_test, verbose=0)\n",
        "print('Test loss:', score[0])\n",
        "print('Test accuracy:', score[1])"
      ],
      "execution_count": 5,
      "outputs": [
        {
          "output_type": "stream",
          "text": [
            "Train on 60000 samples, validate on 10000 samples\n",
            "Epoch 1/10\n",
            "60000/60000 [==============================] - 2s 28us/step - loss: 4.3789e-04 - accuracy: 0.9951 - val_loss: 0.0016 - val_accuracy: 0.9817\n",
            "Epoch 2/10\n",
            "60000/60000 [==============================] - 2s 26us/step - loss: 4.6190e-04 - accuracy: 0.9948 - val_loss: 0.0017 - val_accuracy: 0.9808\n",
            "Epoch 3/10\n",
            "60000/60000 [==============================] - 2s 27us/step - loss: 4.5744e-04 - accuracy: 0.9948 - val_loss: 0.0018 - val_accuracy: 0.9799\n",
            "Epoch 4/10\n",
            "60000/60000 [==============================] - 2s 25us/step - loss: 4.5369e-04 - accuracy: 0.9949 - val_loss: 0.0019 - val_accuracy: 0.9782\n",
            "Epoch 5/10\n",
            "60000/60000 [==============================] - 1s 25us/step - loss: 4.0447e-04 - accuracy: 0.9955 - val_loss: 0.0019 - val_accuracy: 0.9796\n",
            "Epoch 6/10\n",
            "60000/60000 [==============================] - 1s 24us/step - loss: 4.1578e-04 - accuracy: 0.9954 - val_loss: 0.0016 - val_accuracy: 0.9817\n",
            "Epoch 7/10\n",
            "60000/60000 [==============================] - 2s 28us/step - loss: 4.2932e-04 - accuracy: 0.9952 - val_loss: 0.0019 - val_accuracy: 0.9786\n",
            "Epoch 8/10\n",
            "60000/60000 [==============================] - 2s 27us/step - loss: 4.0553e-04 - accuracy: 0.9955 - val_loss: 0.0020 - val_accuracy: 0.9779\n",
            "Epoch 9/10\n",
            "60000/60000 [==============================] - 2s 27us/step - loss: 3.9077e-04 - accuracy: 0.9957 - val_loss: 0.0016 - val_accuracy: 0.9823\n",
            "Epoch 10/10\n",
            "60000/60000 [==============================] - 2s 27us/step - loss: 3.5437e-04 - accuracy: 0.9961 - val_loss: 0.0017 - val_accuracy: 0.9811\n",
            "Test loss: 0.0017111921903885197\n",
            "Test accuracy: 0.9811000227928162\n"
          ],
          "name": "stdout"
        }
      ]
    },
    {
      "cell_type": "markdown",
      "metadata": {
        "id": "snHzyU6XQiOB",
        "colab_type": "text"
      },
      "source": [
        "#squared_hinge\n",
        "keras.losses.squared_hinge(y_true, y_pred)"
      ]
    },
    {
      "cell_type": "code",
      "metadata": {
        "id": "v72D2blwPPdX",
        "colab_type": "code",
        "colab": {
          "base_uri": "https://localhost:8080/",
          "height": 426
        },
        "outputId": "6db1d258-8587-4903-9d44-d2aa7ab8270a"
      },
      "source": [
        "# Compile model using accuracy\n",
        "model.compile(optimizer='rmsprop',\n",
        "              loss='squared_hinge',\n",
        "              metrics=['accuracy'])\n",
        "\n",
        "# Train model\n",
        "model.fit(X_train, y_train,\n",
        "          batch_size=BATCH_SIZE,\n",
        "          epochs=EPOCHS,\n",
        "          verbose=1,\n",
        "          validation_data=(X_test, y_test))\n",
        "\n",
        "score = model.evaluate(X_test, y_test, verbose=0)\n",
        "print('Test loss:', score[0])\n",
        "print('Test accuracy:', score[1])"
      ],
      "execution_count": 6,
      "outputs": [
        {
          "output_type": "stream",
          "text": [
            "Train on 60000 samples, validate on 10000 samples\n",
            "Epoch 1/10\n",
            "60000/60000 [==============================] - 2s 31us/step - loss: 0.9016 - accuracy: 0.9960 - val_loss: 0.9077 - val_accuracy: 0.9801\n",
            "Epoch 2/10\n",
            "60000/60000 [==============================] - 2s 29us/step - loss: 0.9015 - accuracy: 0.9962 - val_loss: 0.9071 - val_accuracy: 0.9816\n",
            "Epoch 3/10\n",
            "60000/60000 [==============================] - 2s 28us/step - loss: 0.9016 - accuracy: 0.9960 - val_loss: 0.9075 - val_accuracy: 0.9808\n",
            "Epoch 4/10\n",
            "60000/60000 [==============================] - 2s 28us/step - loss: 0.9015 - accuracy: 0.9961 - val_loss: 0.9076 - val_accuracy: 0.9806\n",
            "Epoch 5/10\n",
            "60000/60000 [==============================] - 2s 29us/step - loss: 0.9015 - accuracy: 0.9963 - val_loss: 0.9073 - val_accuracy: 0.9812\n",
            "Epoch 6/10\n",
            "60000/60000 [==============================] - 2s 30us/step - loss: 0.9014 - accuracy: 0.9966 - val_loss: 0.9069 - val_accuracy: 0.9822\n",
            "Epoch 7/10\n",
            "60000/60000 [==============================] - 2s 28us/step - loss: 0.9014 - accuracy: 0.9965 - val_loss: 0.9072 - val_accuracy: 0.9818\n",
            "Epoch 8/10\n",
            "60000/60000 [==============================] - 2s 31us/step - loss: 0.9014 - accuracy: 0.9963 - val_loss: 0.9073 - val_accuracy: 0.9810\n",
            "Epoch 9/10\n",
            "60000/60000 [==============================] - 2s 30us/step - loss: 0.9014 - accuracy: 0.9964 - val_loss: 0.9083 - val_accuracy: 0.9792\n",
            "Epoch 10/10\n",
            "60000/60000 [==============================] - 2s 29us/step - loss: 0.9013 - accuracy: 0.9966 - val_loss: 0.9074 - val_accuracy: 0.9810\n",
            "Test loss: 0.9074458133697509\n",
            "Test accuracy: 0.9810000061988831\n"
          ],
          "name": "stdout"
        }
      ]
    },
    {
      "cell_type": "markdown",
      "metadata": {
        "id": "Qk9i9isNQpI3",
        "colab_type": "text"
      },
      "source": [
        "#hinge\n",
        "keras.losses.hinge(y_true, y_pred)"
      ]
    },
    {
      "cell_type": "code",
      "metadata": {
        "id": "0hBvCVnNPPfg",
        "colab_type": "code",
        "colab": {
          "base_uri": "https://localhost:8080/",
          "height": 426
        },
        "outputId": "63da50d6-9411-4bb8-f879-b2be8580af5c"
      },
      "source": [
        "# Compile model using accuracy\n",
        "model.compile(optimizer='rmsprop',\n",
        "              loss='hinge',\n",
        "              metrics=['accuracy'])\n",
        "\n",
        "# Train model\n",
        "model.fit(X_train, y_train,\n",
        "          batch_size=BATCH_SIZE,\n",
        "          epochs=EPOCHS,\n",
        "          verbose=1,\n",
        "          validation_data=(X_test, y_test))\n",
        "\n",
        "score = model.evaluate(X_test, y_test, verbose=0)\n",
        "print('Test loss:', score[0])\n",
        "print('Test accuracy:', score[1])"
      ],
      "execution_count": 7,
      "outputs": [
        {
          "output_type": "stream",
          "text": [
            "Train on 60000 samples, validate on 10000 samples\n",
            "Epoch 1/10\n",
            "60000/60000 [==============================] - 2s 30us/step - loss: 0.9007 - accuracy: 0.9964 - val_loss: 0.9037 - val_accuracy: 0.9814\n",
            "Epoch 2/10\n",
            "60000/60000 [==============================] - 2s 29us/step - loss: 0.9007 - accuracy: 0.9964 - val_loss: 0.9038 - val_accuracy: 0.9813\n",
            "Epoch 3/10\n",
            "60000/60000 [==============================] - 2s 29us/step - loss: 0.9006 - accuracy: 0.9969 - val_loss: 0.9039 - val_accuracy: 0.9808\n",
            "Epoch 4/10\n",
            "60000/60000 [==============================] - 2s 28us/step - loss: 0.9007 - accuracy: 0.9968 - val_loss: 0.9040 - val_accuracy: 0.9800\n",
            "Epoch 5/10\n",
            "60000/60000 [==============================] - 2s 26us/step - loss: 0.9006 - accuracy: 0.9969 - val_loss: 0.9039 - val_accuracy: 0.9811\n",
            "Epoch 6/10\n",
            "60000/60000 [==============================] - 2s 29us/step - loss: 0.9007 - accuracy: 0.9965 - val_loss: 0.9037 - val_accuracy: 0.9815\n",
            "Epoch 7/10\n",
            "60000/60000 [==============================] - 2s 29us/step - loss: 0.9006 - accuracy: 0.9970 - val_loss: 0.9037 - val_accuracy: 0.9816\n",
            "Epoch 8/10\n",
            "60000/60000 [==============================] - 2s 29us/step - loss: 0.9006 - accuracy: 0.9969 - val_loss: 0.9037 - val_accuracy: 0.9819\n",
            "Epoch 9/10\n",
            "60000/60000 [==============================] - 2s 27us/step - loss: 0.9006 - accuracy: 0.9973 - val_loss: 0.9035 - val_accuracy: 0.9828\n",
            "Epoch 10/10\n",
            "60000/60000 [==============================] - 2s 28us/step - loss: 0.9006 - accuracy: 0.9968 - val_loss: 0.9038 - val_accuracy: 0.9811\n",
            "Test loss: 0.9038134996414184\n",
            "Test accuracy: 0.9811000227928162\n"
          ],
          "name": "stdout"
        }
      ]
    },
    {
      "cell_type": "markdown",
      "metadata": {
        "id": "eD7RpozIQuLH",
        "colab_type": "text"
      },
      "source": [
        "#categorical_hinge\n",
        "keras.losses.categorical_hinge(y_true, y_pred)"
      ]
    },
    {
      "cell_type": "code",
      "metadata": {
        "id": "y7GsetaePPi6",
        "colab_type": "code",
        "colab": {
          "base_uri": "https://localhost:8080/",
          "height": 426
        },
        "outputId": "0b035c4b-fef1-4676-993a-144bef9d7523"
      },
      "source": [
        "# Compile model using accuracy\n",
        "model.compile(optimizer='rmsprop',\n",
        "              loss='categorical_hinge',\n",
        "              metrics=['accuracy'])\n",
        "\n",
        "# Train model\n",
        "model.fit(X_train, y_train,\n",
        "          batch_size=BATCH_SIZE,\n",
        "          epochs=EPOCHS,\n",
        "          verbose=1,\n",
        "          validation_data=(X_test, y_test))\n",
        "\n",
        "score = model.evaluate(X_test, y_test, verbose=0)\n",
        "print('Test loss:', score[0])\n",
        "print('Test accuracy:', score[1])"
      ],
      "execution_count": 8,
      "outputs": [
        {
          "output_type": "stream",
          "text": [
            "Train on 60000 samples, validate on 10000 samples\n",
            "Epoch 1/10\n",
            "60000/60000 [==============================] - 2s 30us/step - loss: 0.0063 - accuracy: 0.9969 - val_loss: 0.0370 - val_accuracy: 0.9812\n",
            "Epoch 2/10\n",
            "60000/60000 [==============================] - 2s 27us/step - loss: 0.0062 - accuracy: 0.9969 - val_loss: 0.0395 - val_accuracy: 0.9802\n",
            "Epoch 3/10\n",
            "60000/60000 [==============================] - 2s 26us/step - loss: 0.0059 - accuracy: 0.9971 - val_loss: 0.0370 - val_accuracy: 0.9815\n",
            "Epoch 4/10\n",
            "60000/60000 [==============================] - 2s 27us/step - loss: 0.0063 - accuracy: 0.9968 - val_loss: 0.0397 - val_accuracy: 0.9802\n",
            "Epoch 5/10\n",
            "60000/60000 [==============================] - 2s 27us/step - loss: 0.0061 - accuracy: 0.9970 - val_loss: 0.0421 - val_accuracy: 0.9789\n",
            "Epoch 6/10\n",
            "60000/60000 [==============================] - 2s 27us/step - loss: 0.0063 - accuracy: 0.9968 - val_loss: 0.0428 - val_accuracy: 0.9786\n",
            "Epoch 7/10\n",
            "60000/60000 [==============================] - 2s 29us/step - loss: 0.0062 - accuracy: 0.9969 - val_loss: 0.0372 - val_accuracy: 0.9814\n",
            "Epoch 8/10\n",
            "60000/60000 [==============================] - 2s 29us/step - loss: 0.0053 - accuracy: 0.9974 - val_loss: 0.0369 - val_accuracy: 0.9810\n",
            "Epoch 9/10\n",
            "60000/60000 [==============================] - 2s 28us/step - loss: 0.0060 - accuracy: 0.9970 - val_loss: 0.0407 - val_accuracy: 0.9796\n",
            "Epoch 10/10\n",
            "60000/60000 [==============================] - 2s 28us/step - loss: 0.0061 - accuracy: 0.9969 - val_loss: 0.0374 - val_accuracy: 0.9811\n",
            "Test loss: 0.037447378258727335\n",
            "Test accuracy: 0.9811000227928162\n"
          ],
          "name": "stdout"
        }
      ]
    },
    {
      "cell_type": "markdown",
      "metadata": {
        "id": "jveDabABQ0bK",
        "colab_type": "text"
      },
      "source": [
        "\n",
        "#logcosh\n",
        "keras.losses.logcosh(y_true, y_pred)\n",
        "\n",
        "Logarithm of the hyperbolic cosine of the prediction error.\n",
        "\n",
        "log(cosh(x)) is approximately equal to (x ** 2) / 2 for small x and to abs(x) - log(2) for large x. This means that 'logcosh' works mostly like the mean squared error, but will not be so strongly affected by the occasional wildly incorrect prediction.\n",
        "\n",
        "#Arguments\n",
        "1. y_true: tensor of true targets.\n",
        "2. y_pred: tensor of predicted targets.\n",
        "\n",
        "#Returns\n",
        "1. Tensor with one scalar loss entry per sample."
      ]
    },
    {
      "cell_type": "code",
      "metadata": {
        "id": "noZVUv8UPPlQ",
        "colab_type": "code",
        "colab": {
          "base_uri": "https://localhost:8080/",
          "height": 426
        },
        "outputId": "1c64422a-7a47-427a-915c-4a2d01354544"
      },
      "source": [
        "# Compile model using accuracy\n",
        "model.compile(optimizer='rmsprop',\n",
        "              loss='logcosh',\n",
        "              metrics=['accuracy'])\n",
        "\n",
        "# Train model\n",
        "model.fit(X_train, y_train,\n",
        "          batch_size=BATCH_SIZE,\n",
        "          epochs=EPOCHS,\n",
        "          verbose=1,\n",
        "          validation_data=(X_test, y_test))\n",
        "\n",
        "score = model.evaluate(X_test, y_test, verbose=0)\n",
        "print('Test loss:', score[0])\n",
        "print('Test accuracy:', score[1])"
      ],
      "execution_count": 9,
      "outputs": [
        {
          "output_type": "stream",
          "text": [
            "Train on 60000 samples, validate on 10000 samples\n",
            "Epoch 1/10\n",
            "60000/60000 [==============================] - 2s 26us/step - loss: 2.7186e-04 - accuracy: 0.9967 - val_loss: 0.0015 - val_accuracy: 0.9814\n",
            "Epoch 2/10\n",
            "60000/60000 [==============================] - 1s 25us/step - loss: 2.6305e-04 - accuracy: 0.9968 - val_loss: 0.0018 - val_accuracy: 0.9783\n",
            "Epoch 3/10\n",
            "60000/60000 [==============================] - 2s 26us/step - loss: 2.6347e-04 - accuracy: 0.9969 - val_loss: 0.0014 - val_accuracy: 0.9828\n",
            "Epoch 4/10\n",
            "60000/60000 [==============================] - 2s 25us/step - loss: 2.6866e-04 - accuracy: 0.9968 - val_loss: 0.0017 - val_accuracy: 0.9801\n",
            "Epoch 5/10\n",
            "60000/60000 [==============================] - 2s 25us/step - loss: 2.6390e-04 - accuracy: 0.9969 - val_loss: 0.0015 - val_accuracy: 0.9822\n",
            "Epoch 6/10\n",
            "60000/60000 [==============================] - 1s 24us/step - loss: 2.5553e-04 - accuracy: 0.9969 - val_loss: 0.0016 - val_accuracy: 0.9805\n",
            "Epoch 7/10\n",
            "60000/60000 [==============================] - 2s 27us/step - loss: 2.7291e-04 - accuracy: 0.9967 - val_loss: 0.0017 - val_accuracy: 0.9797\n",
            "Epoch 8/10\n",
            "60000/60000 [==============================] - 2s 28us/step - loss: 2.6607e-04 - accuracy: 0.9968 - val_loss: 0.0015 - val_accuracy: 0.9815\n",
            "Epoch 9/10\n",
            "60000/60000 [==============================] - 2s 28us/step - loss: 2.6323e-04 - accuracy: 0.9968 - val_loss: 0.0016 - val_accuracy: 0.9810\n",
            "Epoch 10/10\n",
            "60000/60000 [==============================] - 1s 24us/step - loss: 2.6627e-04 - accuracy: 0.9968 - val_loss: 0.0016 - val_accuracy: 0.9804\n",
            "Test loss: 0.001626853512024134\n",
            "Test accuracy: 0.980400025844574\n"
          ],
          "name": "stdout"
        }
      ]
    },
    {
      "cell_type": "markdown",
      "metadata": {
        "id": "jVdEdNZnRU21",
        "colab_type": "text"
      },
      "source": [
        "#categorical_crossentropy\n",
        "keras.losses.categorical_crossentropy(y_true, y_pred, from_logits=False, label_smoothing=0)"
      ]
    },
    {
      "cell_type": "code",
      "metadata": {
        "id": "h8C29jCbPPof",
        "colab_type": "code",
        "colab": {
          "base_uri": "https://localhost:8080/",
          "height": 426
        },
        "outputId": "8d353623-1d90-457b-91d6-bf05dc780984"
      },
      "source": [
        "# Compile model using accuracy\n",
        "model.compile(optimizer='rmsprop',\n",
        "              loss='categorical_crossentropy',\n",
        "              metrics=['accuracy'])\n",
        "\n",
        "# Train model\n",
        "model.fit(X_train, y_train,\n",
        "          batch_size=BATCH_SIZE,\n",
        "          epochs=EPOCHS,\n",
        "          verbose=1,\n",
        "          validation_data=(X_test, y_test))\n",
        "\n",
        "score = model.evaluate(X_test, y_test, verbose=0)\n",
        "print('Test loss:', score[0])\n",
        "print('Test accuracy:', score[1])"
      ],
      "execution_count": 10,
      "outputs": [
        {
          "output_type": "stream",
          "text": [
            "Train on 60000 samples, validate on 10000 samples\n",
            "Epoch 1/10\n",
            "60000/60000 [==============================] - 2s 28us/step - loss: 0.1251 - accuracy: 0.9954 - val_loss: 0.3155 - val_accuracy: 0.9775\n",
            "Epoch 2/10\n",
            "60000/60000 [==============================] - 2s 27us/step - loss: 0.0658 - accuracy: 0.9954 - val_loss: 0.3030 - val_accuracy: 0.9787\n",
            "Epoch 3/10\n",
            "60000/60000 [==============================] - 2s 27us/step - loss: 0.0375 - accuracy: 0.9959 - val_loss: 0.2681 - val_accuracy: 0.9777\n",
            "Epoch 4/10\n",
            "60000/60000 [==============================] - 2s 26us/step - loss: 0.0247 - accuracy: 0.9966 - val_loss: 0.2575 - val_accuracy: 0.9806\n",
            "Epoch 5/10\n",
            "60000/60000 [==============================] - 2s 27us/step - loss: 0.0191 - accuracy: 0.9975 - val_loss: 0.2656 - val_accuracy: 0.9817\n",
            "Epoch 6/10\n",
            "60000/60000 [==============================] - 2s 26us/step - loss: 0.0136 - accuracy: 0.9980 - val_loss: 0.2994 - val_accuracy: 0.9797\n",
            "Epoch 7/10\n",
            "60000/60000 [==============================] - 2s 26us/step - loss: 0.0097 - accuracy: 0.9981 - val_loss: 0.2833 - val_accuracy: 0.9805\n",
            "Epoch 8/10\n",
            "60000/60000 [==============================] - 2s 27us/step - loss: 0.0092 - accuracy: 0.9987 - val_loss: 0.3178 - val_accuracy: 0.9788\n",
            "Epoch 9/10\n",
            "60000/60000 [==============================] - 2s 28us/step - loss: 0.0099 - accuracy: 0.9983 - val_loss: 0.2881 - val_accuracy: 0.9791\n",
            "Epoch 10/10\n",
            "60000/60000 [==============================] - 2s 26us/step - loss: 0.0065 - accuracy: 0.9987 - val_loss: 0.3044 - val_accuracy: 0.9786\n",
            "Test loss: 0.3043569838871428\n",
            "Test accuracy: 0.978600025177002\n"
          ],
          "name": "stdout"
        }
      ]
    },
    {
      "cell_type": "markdown",
      "metadata": {
        "id": "JHVO39OBRX8H",
        "colab_type": "text"
      },
      "source": [
        "#binary_crossentropy\n",
        "keras.losses.binary_crossentropy(y_true, y_pred, from_logits=False, label_smoothing=0)"
      ]
    },
    {
      "cell_type": "code",
      "metadata": {
        "id": "FGZTmyS0PPqm",
        "colab_type": "code",
        "colab": {
          "base_uri": "https://localhost:8080/",
          "height": 426
        },
        "outputId": "02aa0028-6b62-40c1-a663-c650ebb85522"
      },
      "source": [
        "# Compile model using accuracy\n",
        "model.compile(optimizer='rmsprop',\n",
        "              loss='binary_crossentropy',\n",
        "              metrics=['accuracy'])\n",
        "\n",
        "# Train model\n",
        "model.fit(X_train, y_train,\n",
        "          batch_size=BATCH_SIZE,\n",
        "          epochs=EPOCHS,\n",
        "          verbose=1,\n",
        "          validation_data=(X_test, y_test))\n",
        "\n",
        "score = model.evaluate(X_test, y_test, verbose=0)\n",
        "print('Test loss:', score[0])\n",
        "print('Test accuracy:', score[1])"
      ],
      "execution_count": 11,
      "outputs": [
        {
          "output_type": "stream",
          "text": [
            "Train on 60000 samples, validate on 10000 samples\n",
            "Epoch 1/10\n",
            "60000/60000 [==============================] - 2s 30us/step - loss: 9.6559e-04 - accuracy: 0.9998 - val_loss: 0.0374 - val_accuracy: 0.9963\n",
            "Epoch 2/10\n",
            "60000/60000 [==============================] - 2s 26us/step - loss: 0.0014 - accuracy: 0.9998 - val_loss: 0.0369 - val_accuracy: 0.9962\n",
            "Epoch 3/10\n",
            "60000/60000 [==============================] - 2s 26us/step - loss: 0.0014 - accuracy: 0.9997 - val_loss: 0.0352 - val_accuracy: 0.9962\n",
            "Epoch 4/10\n",
            "60000/60000 [==============================] - 2s 29us/step - loss: 0.0011 - accuracy: 0.9998 - val_loss: 0.0346 - val_accuracy: 0.9964\n",
            "Epoch 5/10\n",
            "60000/60000 [==============================] - 2s 29us/step - loss: 8.2379e-04 - accuracy: 0.9998 - val_loss: 0.0375 - val_accuracy: 0.9960\n",
            "Epoch 6/10\n",
            "60000/60000 [==============================] - 2s 26us/step - loss: 9.8690e-04 - accuracy: 0.9998 - val_loss: 0.0406 - val_accuracy: 0.9958\n",
            "Epoch 7/10\n",
            "60000/60000 [==============================] - 2s 27us/step - loss: 7.4725e-04 - accuracy: 0.9998 - val_loss: 0.0366 - val_accuracy: 0.9966\n",
            "Epoch 8/10\n",
            "60000/60000 [==============================] - 2s 25us/step - loss: 8.0431e-04 - accuracy: 0.9998 - val_loss: 0.0387 - val_accuracy: 0.9958\n",
            "Epoch 9/10\n",
            "60000/60000 [==============================] - 2s 29us/step - loss: 6.9665e-04 - accuracy: 0.9998 - val_loss: 0.0362 - val_accuracy: 0.9963\n",
            "Epoch 10/10\n",
            "60000/60000 [==============================] - 2s 27us/step - loss: 6.3156e-04 - accuracy: 0.9999 - val_loss: 0.0367 - val_accuracy: 0.9962\n",
            "Test loss: 0.03674647409194231\n",
            "Test accuracy: 0.9961592555046082\n"
          ],
          "name": "stdout"
        }
      ]
    },
    {
      "cell_type": "markdown",
      "metadata": {
        "id": "hUR-bv-lRcRX",
        "colab_type": "text"
      },
      "source": [
        "#kullback_leibler_divergence\n",
        "keras.losses.kullback_leibler_divergence(y_true, y_pred)"
      ]
    },
    {
      "cell_type": "code",
      "metadata": {
        "id": "PlDKAhJqPPuD",
        "colab_type": "code",
        "colab": {
          "base_uri": "https://localhost:8080/",
          "height": 426
        },
        "outputId": "c60fa660-dfc0-4dbe-c5a0-b7f168efd713"
      },
      "source": [
        "# Compile model using accuracy\n",
        "model.compile(optimizer='rmsprop',\n",
        "              loss='kullback_leibler_divergence',\n",
        "              metrics=['accuracy'])\n",
        "\n",
        "# Train model\n",
        "model.fit(X_train, y_train,\n",
        "          batch_size=BATCH_SIZE,\n",
        "          epochs=EPOCHS,\n",
        "          verbose=1,\n",
        "          validation_data=(X_test, y_test))\n",
        "\n",
        "score = model.evaluate(X_test, y_test, verbose=0)\n",
        "print('Test loss:', score[0])\n",
        "print('Test accuracy:', score[1])"
      ],
      "execution_count": 12,
      "outputs": [
        {
          "output_type": "stream",
          "text": [
            "Train on 60000 samples, validate on 10000 samples\n",
            "Epoch 1/10\n",
            "60000/60000 [==============================] - 2s 26us/step - loss: 0.0027 - accuracy: 0.9994 - val_loss: 0.2082 - val_accuracy: 0.9804\n",
            "Epoch 2/10\n",
            "60000/60000 [==============================] - 2s 27us/step - loss: 0.0032 - accuracy: 0.9993 - val_loss: 0.1951 - val_accuracy: 0.9818\n",
            "Epoch 3/10\n",
            "60000/60000 [==============================] - 2s 25us/step - loss: 0.0023 - accuracy: 0.9995 - val_loss: 0.2026 - val_accuracy: 0.9811\n",
            "Epoch 4/10\n",
            "60000/60000 [==============================] - 2s 26us/step - loss: 0.0018 - accuracy: 0.9996 - val_loss: 0.1958 - val_accuracy: 0.9821\n",
            "Epoch 5/10\n",
            "60000/60000 [==============================] - 2s 28us/step - loss: 0.0031 - accuracy: 0.9994 - val_loss: 0.1844 - val_accuracy: 0.9826\n",
            "Epoch 6/10\n",
            "60000/60000 [==============================] - 2s 28us/step - loss: 0.0029 - accuracy: 0.9995 - val_loss: 0.2063 - val_accuracy: 0.9805\n",
            "Epoch 7/10\n",
            "60000/60000 [==============================] - 2s 28us/step - loss: 0.0034 - accuracy: 0.9994 - val_loss: 0.2107 - val_accuracy: 0.9802\n",
            "Epoch 8/10\n",
            "60000/60000 [==============================] - 2s 26us/step - loss: 0.0037 - accuracy: 0.9994 - val_loss: 0.2155 - val_accuracy: 0.9806\n",
            "Epoch 9/10\n",
            "60000/60000 [==============================] - 2s 29us/step - loss: 0.0033 - accuracy: 0.9993 - val_loss: 0.1828 - val_accuracy: 0.9824\n",
            "Epoch 10/10\n",
            "60000/60000 [==============================] - 2s 27us/step - loss: 0.0025 - accuracy: 0.9995 - val_loss: 0.2096 - val_accuracy: 0.9803\n",
            "Test loss: 0.20964273773615213\n",
            "Test accuracy: 0.9803000092506409\n"
          ],
          "name": "stdout"
        }
      ]
    },
    {
      "cell_type": "markdown",
      "metadata": {
        "id": "8Y4xBvKfRhmU",
        "colab_type": "text"
      },
      "source": [
        "#poisson\n",
        "keras.losses.poisson(y_true, y_pred)"
      ]
    },
    {
      "cell_type": "code",
      "metadata": {
        "id": "9fArsc0APPwd",
        "colab_type": "code",
        "colab": {
          "base_uri": "https://localhost:8080/",
          "height": 426
        },
        "outputId": "22858161-aa3b-45b7-f1bd-4ef1e575a8b7"
      },
      "source": [
        "# Compile model using accuracy\n",
        "model.compile(optimizer='rmsprop',\n",
        "              loss='poisson',\n",
        "              metrics=['accuracy'])\n",
        "\n",
        "# Train model\n",
        "model.fit(X_train, y_train,\n",
        "          batch_size=BATCH_SIZE,\n",
        "          epochs=EPOCHS,\n",
        "          verbose=1,\n",
        "          validation_data=(X_test, y_test))\n",
        "\n",
        "score = model.evaluate(X_test, y_test, verbose=0)\n",
        "print('Test loss:', score[0])\n",
        "print('Test accuracy:', score[1])"
      ],
      "execution_count": 13,
      "outputs": [
        {
          "output_type": "stream",
          "text": [
            "Train on 60000 samples, validate on 10000 samples\n",
            "Epoch 1/10\n",
            "60000/60000 [==============================] - 2s 30us/step - loss: 0.1002 - accuracy: 0.9996 - val_loss: 0.1205 - val_accuracy: 0.9801\n",
            "Epoch 2/10\n",
            "60000/60000 [==============================] - 2s 28us/step - loss: 0.1003 - accuracy: 0.9995 - val_loss: 0.1191 - val_accuracy: 0.9821\n",
            "Epoch 3/10\n",
            "60000/60000 [==============================] - 2s 28us/step - loss: 0.1002 - accuracy: 0.9995 - val_loss: 0.1202 - val_accuracy: 0.9820\n",
            "Epoch 4/10\n",
            "60000/60000 [==============================] - 1s 24us/step - loss: 0.1004 - accuracy: 0.9995 - val_loss: 0.1215 - val_accuracy: 0.9802\n",
            "Epoch 5/10\n",
            "60000/60000 [==============================] - 2s 27us/step - loss: 0.1003 - accuracy: 0.9994 - val_loss: 0.1226 - val_accuracy: 0.9794\n",
            "Epoch 6/10\n",
            "60000/60000 [==============================] - 2s 25us/step - loss: 0.1002 - accuracy: 0.9995 - val_loss: 0.1211 - val_accuracy: 0.9814\n",
            "Epoch 7/10\n",
            "60000/60000 [==============================] - 2s 27us/step - loss: 0.1002 - accuracy: 0.9996 - val_loss: 0.1217 - val_accuracy: 0.9803\n",
            "Epoch 8/10\n",
            "60000/60000 [==============================] - 2s 28us/step - loss: 0.1001 - accuracy: 0.9997 - val_loss: 0.1218 - val_accuracy: 0.9810\n",
            "Epoch 9/10\n",
            "60000/60000 [==============================] - 2s 27us/step - loss: 0.1003 - accuracy: 0.9995 - val_loss: 0.1207 - val_accuracy: 0.9814\n",
            "Epoch 10/10\n",
            "60000/60000 [==============================] - 2s 27us/step - loss: 0.1002 - accuracy: 0.9994 - val_loss: 0.1208 - val_accuracy: 0.9814\n",
            "Test loss: 0.12082415584325791\n",
            "Test accuracy: 0.9814000129699707\n"
          ],
          "name": "stdout"
        }
      ]
    },
    {
      "cell_type": "markdown",
      "metadata": {
        "id": "Tcygql2hRm_L",
        "colab_type": "text"
      },
      "source": [
        "#cosine_proximity\n",
        "keras.losses.cosine_proximity(y_true, y_pred, axis=-1)"
      ]
    },
    {
      "cell_type": "code",
      "metadata": {
        "id": "XGKJU7JwPPz5",
        "colab_type": "code",
        "colab": {
          "base_uri": "https://localhost:8080/",
          "height": 426
        },
        "outputId": "14b05540-4c33-45c4-e5a3-8b87edd083a8"
      },
      "source": [
        "# Compile model using accuracy\n",
        "model.compile(optimizer='rmsprop',\n",
        "              loss='cosine_proximity',\n",
        "              metrics=['accuracy'])\n",
        "\n",
        "# Train model\n",
        "model.fit(X_train, y_train,\n",
        "          batch_size=BATCH_SIZE,\n",
        "          epochs=EPOCHS,\n",
        "          verbose=1,\n",
        "          validation_data=(X_test, y_test))\n",
        "\n",
        "score = model.evaluate(X_test, y_test, verbose=0)\n",
        "print('Test loss:', score[0])\n",
        "print('Test accuracy:', score[1])"
      ],
      "execution_count": 14,
      "outputs": [
        {
          "output_type": "stream",
          "text": [
            "Train on 60000 samples, validate on 10000 samples\n",
            "Epoch 1/10\n",
            "60000/60000 [==============================] - 2s 28us/step - loss: -0.9996 - accuracy: 0.9996 - val_loss: -0.9812 - val_accuracy: 0.9807\n",
            "Epoch 2/10\n",
            "60000/60000 [==============================] - 2s 28us/step - loss: -0.9993 - accuracy: 0.9992 - val_loss: -0.9819 - val_accuracy: 0.9816\n",
            "Epoch 3/10\n",
            "60000/60000 [==============================] - 2s 27us/step - loss: -0.9995 - accuracy: 0.9994 - val_loss: -0.9803 - val_accuracy: 0.9797\n",
            "Epoch 4/10\n",
            "60000/60000 [==============================] - 2s 28us/step - loss: -0.9994 - accuracy: 0.9994 - val_loss: -0.9809 - val_accuracy: 0.9803\n",
            "Epoch 5/10\n",
            "60000/60000 [==============================] - 2s 27us/step - loss: -0.9993 - accuracy: 0.9992 - val_loss: -0.9807 - val_accuracy: 0.9801\n",
            "Epoch 6/10\n",
            "60000/60000 [==============================] - 2s 28us/step - loss: -0.9995 - accuracy: 0.9994 - val_loss: -0.9811 - val_accuracy: 0.9800\n",
            "Epoch 7/10\n",
            "60000/60000 [==============================] - 2s 27us/step - loss: -0.9993 - accuracy: 0.9992 - val_loss: -0.9793 - val_accuracy: 0.9788\n",
            "Epoch 8/10\n",
            "60000/60000 [==============================] - 2s 28us/step - loss: -0.9994 - accuracy: 0.9993 - val_loss: -0.9809 - val_accuracy: 0.9804\n",
            "Epoch 9/10\n",
            "60000/60000 [==============================] - 2s 28us/step - loss: -0.9995 - accuracy: 0.9995 - val_loss: -0.9798 - val_accuracy: 0.9790\n",
            "Epoch 10/10\n",
            "60000/60000 [==============================] - 2s 28us/step - loss: -0.9993 - accuracy: 0.9992 - val_loss: -0.9809 - val_accuracy: 0.9803\n",
            "Test loss: -0.980881326675415\n",
            "Test accuracy: 0.9803000092506409\n"
          ],
          "name": "stdout"
        }
      ]
    },
    {
      "cell_type": "markdown",
      "metadata": {
        "id": "zLKpBFoERrxn",
        "colab_type": "text"
      },
      "source": [
        "#Thank you for completing this notebook"
      ]
    }
  ]
}