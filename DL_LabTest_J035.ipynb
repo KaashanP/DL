{
  "nbformat": 4,
  "nbformat_minor": 0,
  "metadata": {
    "colab": {
      "name": "DL_LabTest_J035.ipynb",
      "provenance": [],
      "toc_visible": true,
      "mount_file_id": "1jkedj6Fu7vT4QukNxkkNc1wMtH3wqwj0",
      "authorship_tag": "ABX9TyMFi4eQS4YfZ4uGljhnYZiD",
      "include_colab_link": true
    },
    "kernelspec": {
      "name": "python3",
      "display_name": "Python 3"
    },
    "accelerator": "GPU"
  },
  "cells": [
    {
      "cell_type": "markdown",
      "metadata": {
        "id": "view-in-github",
        "colab_type": "text"
      },
      "source": [
        "<a href=\"https://colab.research.google.com/github/KaashanP/DL/blob/master/DL_LabTest_J035.ipynb\" target=\"_parent\"><img src=\"https://colab.research.google.com/assets/colab-badge.svg\" alt=\"Open In Colab\"/></a>"
      ]
    },
    {
      "cell_type": "code",
      "metadata": {
        "id": "KoRPty_71KLB",
        "colab_type": "code",
        "colab": {}
      },
      "source": [
        "import numpy as np\n",
        "import pandas as pd\n",
        "import cv2\n",
        "import PIL.Image\n",
        "import os"
      ],
      "execution_count": 0,
      "outputs": []
    },
    {
      "cell_type": "code",
      "metadata": {
        "id": "HjChKPm61bPP",
        "colab_type": "code",
        "colab": {}
      },
      "source": [
        "X=[]\n",
        "Z=[]\n",
        "IMG_SIZE=150\n",
        "AGRICULTURAL_DIR='/content/drive/My Drive/kaashan/Images/agricultural' \n",
        "AIRPLANE_DIR='/content/drive/My Drive/kaashan/Images/airplane'\n",
        "BASEBALLDIAMOND_DIR='/content/drive/My Drive/kaashan/Images/baseballdiamond'\n",
        "BEACH_DIR='/content/drive/My Drive/kaashan/Images/beach'\n",
        "BUILDINGS_DIR='/content/drive/My Drive/kaashan/Images/buildings'\n",
        "CHAPARRAL_DIR='/content/drive/My Drive/kaashan/Images/chaparral'\n",
        "DENSERESIDENTIAL_DIR='/content/drive/My Drive/kaashan/Images/denseresidential'\n",
        "FOREST_DIR='/content/drive/My Drive/kaashan/Images/forest'\n",
        "FREEWAY_DIR='/content/drive/My Drive/kaashan/Images/freeway'\n",
        "GOLFCOURSE_DIR='/content/drive/My Drive/kaashan/Images/golfcourse'\n",
        "HARBOR_DIR='/content/drive/My Drive/kaashan/Images/harbor'\n",
        "INTERSECTION_DIR='/content/drive/My Drive/kaashan/Images/intersection'\n",
        "MEDIUMRESIDENTIAL_DIR='/content/drive/My Drive/kaashan/Images/mediumresidential'\n",
        "MOBILEHOMEPARK_DIR='/content/drive/My Drive/kaashan/Images/mobilehomepark'\n",
        "OVERPASS_DIR='/content/drive/My Drive/kaashan/Images/overpass'\n",
        "PARKINGLOT_DIR='/content/drive/My Drive/kaashan/Images/parkinglot'\n",
        "RIVER_DIR='/content/drive/My Drive/kaashan/Images/river'\n",
        "RUNWAY_DIR='/content/drive/My Drive/kaashan/Images/runway'\n",
        "SPARSERESIDENTIAL_DIR='/content/drive/My Drive/kaashan/Images/sparseresidential'\n",
        "STORAGETANKS_DIR='/content/drive/My Drive/kaashan/Images/storagetanks'\n",
        "TENNISCOURT_DIR='/content/drive/My Drive/kaashan/Images/tenniscourt'"
      ],
      "execution_count": 0,
      "outputs": []
    },
    {
      "cell_type": "code",
      "metadata": {
        "id": "bNbw6_-h61s4",
        "colab_type": "code",
        "colab": {}
      },
      "source": [
        "def assign_label(img,image_type):\n",
        "    return image_type\n",
        "\n",
        "def make_train_data(image_type,DIR):\n",
        "    for img in tqdm(os.listdir(DIR)):\n",
        "        label=assign_label(img,image_type)\n",
        "        path = os.path.join(DIR,img)\n",
        "        img = cv2.imread(path,cv2.IMREAD_COLOR)\n",
        "        img = cv2.resize(img, (IMG_SIZE,IMG_SIZE))\n",
        "        \n",
        "        X.append(np.array(img))\n",
        "        Z.append(str(label))"
      ],
      "execution_count": 0,
      "outputs": []
    },
    {
      "cell_type": "code",
      "metadata": {
        "id": "A12ZB7KY62Cz",
        "colab_type": "code",
        "colab": {
          "base_uri": "https://localhost:8080/",
          "height": 745
        },
        "outputId": "2bd70b3a-a659-4c2b-cafd-5f075f49f3d6"
      },
      "source": [
        "from tqdm import tqdm\n",
        "make_train_data('Agricultural',AGRICULTURAL_DIR)\n",
        "print(len(X))\n",
        "make_train_data('Airplane',AIRPLANE_DIR)\n",
        "print(len(X))\n",
        "make_train_data('Baseball Diamond',BASEBALLDIAMOND_DIR)\n",
        "print(len(X))\n",
        "make_train_data('Beach',BEACH_DIR)\n",
        "print(len(X))\n",
        "make_train_data('Buildings',BUILDINGS_DIR)\n",
        "print(len(X))\n",
        "make_train_data('Chaparral',CHAPARRAL_DIR)\n",
        "print(len(X))\n",
        "make_train_data('Dense Residential',DENSERESIDENTIAL_DIR)\n",
        "print(len(X))\n",
        "make_train_data('Forest',FOREST_DIR)\n",
        "print(len(X))\n",
        "make_train_data('Freeway',FREEWAY_DIR)\n",
        "print(len(X))\n",
        "make_train_data('Golfcourse',GOLFCOURSE_DIR)\n",
        "print(len(X))\n",
        "make_train_data('Harbor',HARBOR_DIR)\n",
        "print(len(X))\n",
        "make_train_data('Intersection',INTERSECTION_DIR)\n",
        "print(len(X))\n",
        "make_train_data('Medium Residential',MEDIUMRESIDENTIAL_DIR)\n",
        "print(len(X))\n",
        "make_train_data('Mobile Home Park',MOBILEHOMEPARK_DIR)\n",
        "print(len(X))\n",
        "make_train_data('Overpass',OVERPASS_DIR)\n",
        "print(len(X))\n",
        "make_train_data('Parking Lot',PARKINGLOT_DIR)\n",
        "print(len(X))\n",
        "make_train_data('River',RIVER_DIR)\n",
        "print(len(X))\n",
        "make_train_data('Runway',RUNWAY_DIR)\n",
        "print(len(X))\n",
        "make_train_data('Sparse Residential',SPARSERESIDENTIAL_DIR)\n",
        "print(len(X))\n",
        "make_train_data('Storage Tanks',STORAGETANKS_DIR)\n",
        "print(len(X))\n",
        "make_train_data('Tennis Court',TENNISCOURT_DIR)\n",
        "print(len(X))"
      ],
      "execution_count": 9,
      "outputs": [
        {
          "output_type": "stream",
          "text": [
            "100%|██████████| 100/100 [00:58<00:00,  2.19it/s]\n",
            "  0%|          | 0/100 [00:00<?, ?it/s]"
          ],
          "name": "stderr"
        },
        {
          "output_type": "stream",
          "text": [
            "100\n"
          ],
          "name": "stdout"
        },
        {
          "output_type": "stream",
          "text": [
            "100%|██████████| 100/100 [01:01<00:00,  2.06it/s]\n",
            "  0%|          | 0/100 [00:00<?, ?it/s]"
          ],
          "name": "stderr"
        },
        {
          "output_type": "stream",
          "text": [
            "200\n"
          ],
          "name": "stdout"
        },
        {
          "output_type": "stream",
          "text": [
            "100%|██████████| 100/100 [00:56<00:00,  1.99it/s]\n",
            "  0%|          | 0/100 [00:00<?, ?it/s]"
          ],
          "name": "stderr"
        },
        {
          "output_type": "stream",
          "text": [
            "300\n"
          ],
          "name": "stdout"
        },
        {
          "output_type": "stream",
          "text": [
            "100%|██████████| 100/100 [00:53<00:00,  2.15it/s]\n",
            "  0%|          | 0/100 [00:00<?, ?it/s]"
          ],
          "name": "stderr"
        },
        {
          "output_type": "stream",
          "text": [
            "400\n"
          ],
          "name": "stdout"
        },
        {
          "output_type": "stream",
          "text": [
            "100%|██████████| 100/100 [01:01<00:00,  1.99it/s]\n",
            "  0%|          | 0/100 [00:00<?, ?it/s]"
          ],
          "name": "stderr"
        },
        {
          "output_type": "stream",
          "text": [
            "500\n"
          ],
          "name": "stdout"
        },
        {
          "output_type": "stream",
          "text": [
            "100%|██████████| 100/100 [00:58<00:00,  2.06it/s]\n",
            "  0%|          | 0/100 [00:00<?, ?it/s]"
          ],
          "name": "stderr"
        },
        {
          "output_type": "stream",
          "text": [
            "600\n"
          ],
          "name": "stdout"
        },
        {
          "output_type": "stream",
          "text": [
            "100%|██████████| 100/100 [01:00<00:00,  1.27it/s]\n",
            "  0%|          | 0/104 [00:00<?, ?it/s]"
          ],
          "name": "stderr"
        },
        {
          "output_type": "stream",
          "text": [
            "700\n"
          ],
          "name": "stdout"
        },
        {
          "output_type": "stream",
          "text": [
            "100%|██████████| 104/104 [00:56<00:00,  2.71it/s]\n",
            "  0%|          | 0/104 [00:00<?, ?it/s]"
          ],
          "name": "stderr"
        },
        {
          "output_type": "stream",
          "text": [
            "804\n"
          ],
          "name": "stdout"
        },
        {
          "output_type": "stream",
          "text": [
            "100%|██████████| 104/104 [00:58<00:00,  2.34it/s]\n",
            "  0%|          | 0/100 [00:00<?, ?it/s]"
          ],
          "name": "stderr"
        },
        {
          "output_type": "stream",
          "text": [
            "908\n"
          ],
          "name": "stdout"
        },
        {
          "output_type": "stream",
          "text": [
            "100%|██████████| 100/100 [00:53<00:00,  2.09it/s]\n",
            "  0%|          | 0/100 [00:00<?, ?it/s]"
          ],
          "name": "stderr"
        },
        {
          "output_type": "stream",
          "text": [
            "1008\n"
          ],
          "name": "stdout"
        },
        {
          "output_type": "stream",
          "text": [
            "100%|██████████| 100/100 [00:56<00:00,  1.87it/s]\n",
            "  0%|          | 0/100 [00:00<?, ?it/s]"
          ],
          "name": "stderr"
        },
        {
          "output_type": "stream",
          "text": [
            "1108\n"
          ],
          "name": "stdout"
        },
        {
          "output_type": "stream",
          "text": [
            "100%|██████████| 100/100 [01:02<00:00,  1.51it/s]\n",
            "  0%|          | 0/100 [00:00<?, ?it/s]"
          ],
          "name": "stderr"
        },
        {
          "output_type": "stream",
          "text": [
            "1208\n"
          ],
          "name": "stdout"
        },
        {
          "output_type": "stream",
          "text": [
            "100%|██████████| 100/100 [01:02<00:00,  1.66it/s]\n",
            "  0%|          | 0/100 [00:00<?, ?it/s]"
          ],
          "name": "stderr"
        },
        {
          "output_type": "stream",
          "text": [
            "1308\n"
          ],
          "name": "stdout"
        },
        {
          "output_type": "stream",
          "text": [
            "100%|██████████| 100/100 [00:52<00:00,  1.99it/s]\n",
            "  0%|          | 0/101 [00:00<?, ?it/s]"
          ],
          "name": "stderr"
        },
        {
          "output_type": "stream",
          "text": [
            "1408\n"
          ],
          "name": "stdout"
        },
        {
          "output_type": "stream",
          "text": [
            "100%|██████████| 101/101 [00:52<00:00,  2.05it/s]\n",
            "  0%|          | 0/100 [00:00<?, ?it/s]"
          ],
          "name": "stderr"
        },
        {
          "output_type": "stream",
          "text": [
            "1509\n"
          ],
          "name": "stdout"
        },
        {
          "output_type": "stream",
          "text": [
            "100%|██████████| 100/100 [00:57<00:00,  2.10it/s]\n",
            "  0%|          | 0/100 [00:00<?, ?it/s]"
          ],
          "name": "stderr"
        },
        {
          "output_type": "stream",
          "text": [
            "1609\n"
          ],
          "name": "stdout"
        },
        {
          "output_type": "stream",
          "text": [
            "100%|██████████| 100/100 [01:08<00:00,  1.25it/s]\n",
            "  0%|          | 0/100 [00:00<?, ?it/s]"
          ],
          "name": "stderr"
        },
        {
          "output_type": "stream",
          "text": [
            "1709\n"
          ],
          "name": "stdout"
        },
        {
          "output_type": "stream",
          "text": [
            "100%|██████████| 100/100 [01:02<00:00,  1.48it/s]\n",
            "  0%|          | 0/100 [00:00<?, ?it/s]"
          ],
          "name": "stderr"
        },
        {
          "output_type": "stream",
          "text": [
            "1809\n"
          ],
          "name": "stdout"
        },
        {
          "output_type": "stream",
          "text": [
            "100%|██████████| 100/100 [00:58<00:00,  1.85it/s]\n",
            "  0%|          | 0/100 [00:00<?, ?it/s]"
          ],
          "name": "stderr"
        },
        {
          "output_type": "stream",
          "text": [
            "1909\n"
          ],
          "name": "stdout"
        },
        {
          "output_type": "stream",
          "text": [
            "100%|██████████| 100/100 [00:57<00:00,  1.77it/s]\n",
            "  0%|          | 0/100 [00:00<?, ?it/s]"
          ],
          "name": "stderr"
        },
        {
          "output_type": "stream",
          "text": [
            "2009\n"
          ],
          "name": "stdout"
        },
        {
          "output_type": "stream",
          "text": [
            "100%|██████████| 100/100 [00:54<00:00,  1.81it/s]"
          ],
          "name": "stderr"
        },
        {
          "output_type": "stream",
          "text": [
            "2109\n"
          ],
          "name": "stdout"
        },
        {
          "output_type": "stream",
          "text": [
            "\n"
          ],
          "name": "stderr"
        }
      ]
    },
    {
      "cell_type": "code",
      "metadata": {
        "id": "vB0itAb662FR",
        "colab_type": "code",
        "colab": {
          "base_uri": "https://localhost:8080/",
          "height": 99
        },
        "outputId": "2829fff2-c3ae-499a-b78c-380cb4c8e635"
      },
      "source": [
        "# Ignore  the warnings\n",
        "import warnings\n",
        "warnings.filterwarnings('always')\n",
        "warnings.filterwarnings('ignore')\n",
        "\n",
        "# data visualisation and manipulation\n",
        "import numpy as np\n",
        "import pandas as pd\n",
        "import matplotlib.pyplot as plt\n",
        "from matplotlib import style\n",
        "import seaborn as sns\n",
        " \n",
        "%matplotlib inline  \n",
        "style.use('fivethirtyeight')\n",
        "sns.set(style='whitegrid',color_codes=True)\n",
        "\n",
        "from sklearn.model_selection import train_test_split\n",
        "from sklearn.model_selection import KFold\n",
        "from sklearn.metrics import accuracy_score,precision_score,recall_score,confusion_matrix,roc_curve,roc_auc_score\n",
        "from sklearn.model_selection import GridSearchCV\n",
        "from sklearn.preprocessing import LabelEncoder\n",
        "\n",
        "from keras.preprocessing.image import ImageDataGenerator\n",
        "\n",
        "from keras import backend as K\n",
        "from keras.models import Sequential\n",
        "from keras.layers import Dense\n",
        "from keras.optimizers import Adam,SGD,Adagrad,Adadelta,RMSprop\n",
        "from keras.utils import to_categorical\n",
        "\n",
        "from keras.layers import Dropout, Flatten,Activation\n",
        "from keras.layers import Conv2D, MaxPooling2D, BatchNormalization\n",
        " \n",
        "import tensorflow as tf\n",
        "import random as rn\n",
        "\n",
        "import cv2                  \n",
        "import numpy as np  \n",
        "from tqdm import tqdm\n",
        "import os                   \n",
        "from random import shuffle  \n",
        "from zipfile import ZipFile\n",
        "from PIL import Image"
      ],
      "execution_count": 10,
      "outputs": [
        {
          "output_type": "stream",
          "text": [
            "Using TensorFlow backend.\n"
          ],
          "name": "stderr"
        },
        {
          "output_type": "display_data",
          "data": {
            "text/html": [
              "<p style=\"color: red;\">\n",
              "The default version of TensorFlow in Colab will soon switch to TensorFlow 2.x.<br>\n",
              "We recommend you <a href=\"https://www.tensorflow.org/guide/migrate\" target=\"_blank\">upgrade</a> now \n",
              "or ensure your notebook will continue to use TensorFlow 1.x via the <code>%tensorflow_version 1.x</code> magic:\n",
              "<a href=\"https://colab.research.google.com/notebooks/tensorflow_version.ipynb\" target=\"_blank\">more info</a>.</p>\n"
            ],
            "text/plain": [
              "<IPython.core.display.HTML object>"
            ]
          },
          "metadata": {
            "tags": []
          }
        }
      ]
    },
    {
      "cell_type": "code",
      "metadata": {
        "id": "yLL5AoLx62Iz",
        "colab_type": "code",
        "colab": {}
      },
      "source": [
        "le=LabelEncoder()\n",
        "Y=le.fit_transform(Z)\n",
        "Y=to_categorical(Y,21)\n",
        "X=np.array(X)\n",
        "X=X/255"
      ],
      "execution_count": 0,
      "outputs": []
    },
    {
      "cell_type": "code",
      "metadata": {
        "id": "xh8J9TlS62L5",
        "colab_type": "code",
        "colab": {}
      },
      "source": [
        "x_train,x_test,y_train,y_test=train_test_split(X,Y,test_size=0.25,random_state=42)\n",
        "np.random.seed(42)\n",
        "rn.seed(42)\n",
        "tf.set_random_seed(42)"
      ],
      "execution_count": 0,
      "outputs": []
    },
    {
      "cell_type": "code",
      "metadata": {
        "id": "LV5GgxoU7XTk",
        "colab_type": "code",
        "colab": {
          "base_uri": "https://localhost:8080/",
          "height": 176
        },
        "outputId": "fbdbd8d1-c852-4563-e414-00c81163b4f9"
      },
      "source": [
        "model = Sequential()\n",
        "model.add(Conv2D(filters = 32, kernel_size = (5,5),padding = 'Same',activation ='relu', input_shape = (150,150,3)))\n",
        "model.add(MaxPooling2D(pool_size=(2,2)))\n",
        "\n",
        "\n",
        "model.add(Conv2D(filters = 64, kernel_size = (3,3),padding = 'Same',activation ='relu'))\n",
        "model.add(MaxPooling2D(pool_size=(2,2), strides=(2,2)))\n",
        " \n",
        "\n",
        "model.add(Conv2D(filters =96, kernel_size = (3,3),padding = 'Same',activation ='relu'))\n",
        "model.add(MaxPooling2D(pool_size=(2,2), strides=(2,2)))\n",
        "\n",
        "model.add(Conv2D(filters = 96, kernel_size = (3,3),padding = 'Same',activation ='relu'))\n",
        "model.add(MaxPooling2D(pool_size=(2,2), strides=(2,2)))\n",
        "\n",
        "model.add(Flatten())\n",
        "model.add(Dense(512))\n",
        "model.add(Activation('relu'))\n",
        "model.add(Dense(21, activation = \"softmax\"))"
      ],
      "execution_count": 13,
      "outputs": [
        {
          "output_type": "stream",
          "text": [
            "WARNING:tensorflow:From /usr/local/lib/python3.6/dist-packages/keras/backend/tensorflow_backend.py:66: The name tf.get_default_graph is deprecated. Please use tf.compat.v1.get_default_graph instead.\n",
            "\n",
            "WARNING:tensorflow:From /usr/local/lib/python3.6/dist-packages/keras/backend/tensorflow_backend.py:541: The name tf.placeholder is deprecated. Please use tf.compat.v1.placeholder instead.\n",
            "\n",
            "WARNING:tensorflow:From /usr/local/lib/python3.6/dist-packages/keras/backend/tensorflow_backend.py:4432: The name tf.random_uniform is deprecated. Please use tf.random.uniform instead.\n",
            "\n",
            "WARNING:tensorflow:From /usr/local/lib/python3.6/dist-packages/keras/backend/tensorflow_backend.py:4267: The name tf.nn.max_pool is deprecated. Please use tf.nn.max_pool2d instead.\n",
            "\n"
          ],
          "name": "stdout"
        }
      ]
    },
    {
      "cell_type": "code",
      "metadata": {
        "id": "xv2yqlbo7XWJ",
        "colab_type": "code",
        "colab": {}
      },
      "source": [
        "batch_size=21\n",
        "epochs=50\n",
        "\n",
        "from keras.callbacks import ReduceLROnPlateau\n",
        "red_lr= ReduceLROnPlateau(monitor='val_acc',patience=3,verbose=1,factor=0.1)"
      ],
      "execution_count": 0,
      "outputs": []
    },
    {
      "cell_type": "code",
      "metadata": {
        "id": "N0qPwUHm7XZd",
        "colab_type": "code",
        "colab": {}
      },
      "source": [
        "datagen = ImageDataGenerator(\n",
        "        featurewise_center=False,  \n",
        "        samplewise_center=False,  \n",
        "        featurewise_std_normalization=False, \n",
        "        samplewise_std_normalization=False,  \n",
        "        zca_whitening=False,  \n",
        "        rotation_range=10,  \n",
        "        zoom_range = 0.1, \n",
        "        width_shift_range=0.2,  \n",
        "        height_shift_range=0.2,  \n",
        "        horizontal_flip=True,  \n",
        "        vertical_flip=False)  \n",
        "\n",
        "\n",
        "datagen.fit(x_train)"
      ],
      "execution_count": 0,
      "outputs": []
    },
    {
      "cell_type": "code",
      "metadata": {
        "id": "HksteqOR7XcU",
        "colab_type": "code",
        "colab": {
          "base_uri": "https://localhost:8080/",
          "height": 159
        },
        "outputId": "810826c5-5318-4e92-8f29-830f96636ec9"
      },
      "source": [
        "model.compile(optimizer=Adam(lr=0.001),loss='binary_crossentropy',metrics=['accuracy'])"
      ],
      "execution_count": 16,
      "outputs": [
        {
          "output_type": "stream",
          "text": [
            "WARNING:tensorflow:From /usr/local/lib/python3.6/dist-packages/keras/optimizers.py:793: The name tf.train.Optimizer is deprecated. Please use tf.compat.v1.train.Optimizer instead.\n",
            "\n",
            "WARNING:tensorflow:From /usr/local/lib/python3.6/dist-packages/keras/backend/tensorflow_backend.py:3657: The name tf.log is deprecated. Please use tf.math.log instead.\n",
            "\n",
            "WARNING:tensorflow:From /usr/local/lib/python3.6/dist-packages/tensorflow_core/python/ops/nn_impl.py:183: where (from tensorflow.python.ops.array_ops) is deprecated and will be removed in a future version.\n",
            "Instructions for updating:\n",
            "Use tf.where in 2.0, which has the same broadcast rule as np.where\n"
          ],
          "name": "stdout"
        }
      ]
    },
    {
      "cell_type": "code",
      "metadata": {
        "id": "74VbmX_h7pAD",
        "colab_type": "code",
        "colab": {
          "base_uri": "https://localhost:8080/",
          "height": 572
        },
        "outputId": "0f0695a0-3399-4ca7-9106-3613841a3a8b"
      },
      "source": [
        "model.summary()"
      ],
      "execution_count": 17,
      "outputs": [
        {
          "output_type": "stream",
          "text": [
            "Model: \"sequential_1\"\n",
            "_________________________________________________________________\n",
            "Layer (type)                 Output Shape              Param #   \n",
            "=================================================================\n",
            "conv2d_1 (Conv2D)            (None, 150, 150, 32)      2432      \n",
            "_________________________________________________________________\n",
            "max_pooling2d_1 (MaxPooling2 (None, 75, 75, 32)        0         \n",
            "_________________________________________________________________\n",
            "conv2d_2 (Conv2D)            (None, 75, 75, 64)        18496     \n",
            "_________________________________________________________________\n",
            "max_pooling2d_2 (MaxPooling2 (None, 37, 37, 64)        0         \n",
            "_________________________________________________________________\n",
            "conv2d_3 (Conv2D)            (None, 37, 37, 96)        55392     \n",
            "_________________________________________________________________\n",
            "max_pooling2d_3 (MaxPooling2 (None, 18, 18, 96)        0         \n",
            "_________________________________________________________________\n",
            "conv2d_4 (Conv2D)            (None, 18, 18, 96)        83040     \n",
            "_________________________________________________________________\n",
            "max_pooling2d_4 (MaxPooling2 (None, 9, 9, 96)          0         \n",
            "_________________________________________________________________\n",
            "flatten_1 (Flatten)          (None, 7776)              0         \n",
            "_________________________________________________________________\n",
            "dense_1 (Dense)              (None, 512)               3981824   \n",
            "_________________________________________________________________\n",
            "activation_1 (Activation)    (None, 512)               0         \n",
            "_________________________________________________________________\n",
            "dense_2 (Dense)              (None, 21)                10773     \n",
            "=================================================================\n",
            "Total params: 4,151,957\n",
            "Trainable params: 4,151,957\n",
            "Non-trainable params: 0\n",
            "_________________________________________________________________\n"
          ],
          "name": "stdout"
        }
      ]
    },
    {
      "cell_type": "code",
      "metadata": {
        "id": "39sCn8Z27pDY",
        "colab_type": "code",
        "colab": {
          "base_uri": "https://localhost:8080/",
          "height": 1000
        },
        "outputId": "f2c5286d-0b6a-4950-dcc3-19598cdf4fa0"
      },
      "source": [
        "History = model.fit_generator(datagen.flow(x_train,y_train, batch_size=batch_size),\n",
        "                              epochs = epochs, validation_data = (x_test,y_test), \n",
        "                              verbose = 1, steps_per_epoch=x_train.shape[0] // batch_size)"
      ],
      "execution_count": 18,
      "outputs": [
        {
          "output_type": "stream",
          "text": [
            "WARNING:tensorflow:From /usr/local/lib/python3.6/dist-packages/keras/backend/tensorflow_backend.py:1033: The name tf.assign_add is deprecated. Please use tf.compat.v1.assign_add instead.\n",
            "\n",
            "WARNING:tensorflow:From /usr/local/lib/python3.6/dist-packages/keras/backend/tensorflow_backend.py:1020: The name tf.assign is deprecated. Please use tf.compat.v1.assign instead.\n",
            "\n",
            "WARNING:tensorflow:From /usr/local/lib/python3.6/dist-packages/keras/backend/tensorflow_backend.py:3005: The name tf.Session is deprecated. Please use tf.compat.v1.Session instead.\n",
            "\n",
            "Epoch 1/50\n",
            "WARNING:tensorflow:From /usr/local/lib/python3.6/dist-packages/keras/backend/tensorflow_backend.py:190: The name tf.get_default_session is deprecated. Please use tf.compat.v1.get_default_session instead.\n",
            "\n",
            "WARNING:tensorflow:From /usr/local/lib/python3.6/dist-packages/keras/backend/tensorflow_backend.py:197: The name tf.ConfigProto is deprecated. Please use tf.compat.v1.ConfigProto instead.\n",
            "\n",
            "WARNING:tensorflow:From /usr/local/lib/python3.6/dist-packages/keras/backend/tensorflow_backend.py:207: The name tf.global_variables is deprecated. Please use tf.compat.v1.global_variables instead.\n",
            "\n",
            "WARNING:tensorflow:From /usr/local/lib/python3.6/dist-packages/keras/backend/tensorflow_backend.py:216: The name tf.is_variable_initialized is deprecated. Please use tf.compat.v1.is_variable_initialized instead.\n",
            "\n",
            "WARNING:tensorflow:From /usr/local/lib/python3.6/dist-packages/keras/backend/tensorflow_backend.py:223: The name tf.variables_initializer is deprecated. Please use tf.compat.v1.variables_initializer instead.\n",
            "\n",
            "75/75 [==============================] - 21s 286ms/step - loss: 0.1873 - acc: 0.9523 - val_loss: 0.1752 - val_acc: 0.9524\n",
            "Epoch 2/50\n",
            "75/75 [==============================] - 8s 105ms/step - loss: 0.1687 - acc: 0.9524 - val_loss: 0.1538 - val_acc: 0.9545\n",
            "Epoch 3/50\n",
            "75/75 [==============================] - 8s 105ms/step - loss: 0.1579 - acc: 0.9540 - val_loss: 0.1514 - val_acc: 0.9518\n",
            "Epoch 4/50\n",
            "75/75 [==============================] - 8s 103ms/step - loss: 0.1471 - acc: 0.9547 - val_loss: 0.1389 - val_acc: 0.9563\n",
            "Epoch 5/50\n",
            "75/75 [==============================] - 8s 105ms/step - loss: 0.1323 - acc: 0.9565 - val_loss: 0.1390 - val_acc: 0.9526\n",
            "Epoch 6/50\n",
            "75/75 [==============================] - 8s 107ms/step - loss: 0.1205 - acc: 0.9595 - val_loss: 0.1168 - val_acc: 0.9601\n",
            "Epoch 7/50\n",
            "75/75 [==============================] - 8s 106ms/step - loss: 0.1115 - acc: 0.9619 - val_loss: 0.1067 - val_acc: 0.9609\n",
            "Epoch 8/50\n",
            "75/75 [==============================] - 8s 106ms/step - loss: 0.1070 - acc: 0.9615 - val_loss: 0.1002 - val_acc: 0.9635\n",
            "Epoch 9/50\n",
            "75/75 [==============================] - 8s 104ms/step - loss: 0.0967 - acc: 0.9649 - val_loss: 0.0874 - val_acc: 0.9677\n",
            "Epoch 10/50\n",
            "75/75 [==============================] - 8s 102ms/step - loss: 0.0943 - acc: 0.9655 - val_loss: 0.0897 - val_acc: 0.9665\n",
            "Epoch 11/50\n",
            "75/75 [==============================] - 8s 102ms/step - loss: 0.0839 - acc: 0.9681 - val_loss: 0.0984 - val_acc: 0.9632\n",
            "Epoch 12/50\n",
            "75/75 [==============================] - 8s 105ms/step - loss: 0.0840 - acc: 0.9683 - val_loss: 0.0703 - val_acc: 0.9728\n",
            "Epoch 13/50\n",
            "75/75 [==============================] - 8s 105ms/step - loss: 0.0764 - acc: 0.9706 - val_loss: 0.0896 - val_acc: 0.9692\n",
            "Epoch 14/50\n",
            "75/75 [==============================] - 8s 106ms/step - loss: 0.0701 - acc: 0.9740 - val_loss: 0.0724 - val_acc: 0.9725\n",
            "Epoch 15/50\n",
            "75/75 [==============================] - 8s 107ms/step - loss: 0.0673 - acc: 0.9740 - val_loss: 0.0868 - val_acc: 0.9681\n",
            "Epoch 16/50\n",
            "75/75 [==============================] - 8s 102ms/step - loss: 0.0682 - acc: 0.9747 - val_loss: 0.0674 - val_acc: 0.9745\n",
            "Epoch 17/50\n",
            "75/75 [==============================] - 8s 103ms/step - loss: 0.0597 - acc: 0.9772 - val_loss: 0.0623 - val_acc: 0.9766\n",
            "Epoch 18/50\n",
            "75/75 [==============================] - 8s 102ms/step - loss: 0.0609 - acc: 0.9771 - val_loss: 0.0665 - val_acc: 0.9752\n",
            "Epoch 19/50\n",
            "75/75 [==============================] - 8s 104ms/step - loss: 0.0592 - acc: 0.9778 - val_loss: 0.0604 - val_acc: 0.9780\n",
            "Epoch 20/50\n",
            "75/75 [==============================] - 8s 104ms/step - loss: 0.0495 - acc: 0.9810 - val_loss: 0.0609 - val_acc: 0.9774\n",
            "Epoch 21/50\n",
            "75/75 [==============================] - 8s 103ms/step - loss: 0.0503 - acc: 0.9812 - val_loss: 0.0592 - val_acc: 0.9784\n",
            "Epoch 22/50\n",
            "75/75 [==============================] - 8s 111ms/step - loss: 0.0502 - acc: 0.9810 - val_loss: 0.0592 - val_acc: 0.9775\n",
            "Epoch 23/50\n",
            "75/75 [==============================] - 8s 110ms/step - loss: 0.0479 - acc: 0.9811 - val_loss: 0.0575 - val_acc: 0.9797\n",
            "Epoch 24/50\n",
            "75/75 [==============================] - 8s 106ms/step - loss: 0.0484 - acc: 0.9823 - val_loss: 0.0571 - val_acc: 0.9787\n",
            "Epoch 25/50\n",
            "75/75 [==============================] - 8s 105ms/step - loss: 0.0481 - acc: 0.9819 - val_loss: 0.0587 - val_acc: 0.9782\n",
            "Epoch 26/50\n",
            "75/75 [==============================] - 8s 104ms/step - loss: 0.0387 - acc: 0.9861 - val_loss: 0.0496 - val_acc: 0.9813\n",
            "Epoch 27/50\n",
            "75/75 [==============================] - 8s 106ms/step - loss: 0.0405 - acc: 0.9849 - val_loss: 0.0525 - val_acc: 0.9810\n",
            "Epoch 28/50\n",
            "75/75 [==============================] - 8s 105ms/step - loss: 0.0404 - acc: 0.9846 - val_loss: 0.0534 - val_acc: 0.9810\n",
            "Epoch 29/50\n",
            "75/75 [==============================] - 8s 109ms/step - loss: 0.0375 - acc: 0.9864 - val_loss: 0.0493 - val_acc: 0.9824\n",
            "Epoch 30/50\n",
            "75/75 [==============================] - 8s 110ms/step - loss: 0.0379 - acc: 0.9859 - val_loss: 0.0536 - val_acc: 0.9802\n",
            "Epoch 31/50\n",
            "75/75 [==============================] - 8s 106ms/step - loss: 0.0339 - acc: 0.9868 - val_loss: 0.0446 - val_acc: 0.9827\n",
            "Epoch 32/50\n",
            "75/75 [==============================] - 8s 105ms/step - loss: 0.0387 - acc: 0.9859 - val_loss: 0.0465 - val_acc: 0.9830\n",
            "Epoch 33/50\n",
            "75/75 [==============================] - 8s 108ms/step - loss: 0.0295 - acc: 0.9889 - val_loss: 0.0457 - val_acc: 0.9825\n",
            "Epoch 34/50\n",
            "75/75 [==============================] - 8s 105ms/step - loss: 0.0361 - acc: 0.9861 - val_loss: 0.0517 - val_acc: 0.9808\n",
            "Epoch 35/50\n",
            "75/75 [==============================] - 8s 105ms/step - loss: 0.0381 - acc: 0.9859 - val_loss: 0.0435 - val_acc: 0.9849\n",
            "Epoch 36/50\n",
            "75/75 [==============================] - 8s 105ms/step - loss: 0.0327 - acc: 0.9871 - val_loss: 0.0464 - val_acc: 0.9825\n",
            "Epoch 37/50\n",
            "75/75 [==============================] - 8s 112ms/step - loss: 0.0272 - acc: 0.9901 - val_loss: 0.0446 - val_acc: 0.9830\n",
            "Epoch 38/50\n",
            "75/75 [==============================] - 8s 111ms/step - loss: 0.0289 - acc: 0.9891 - val_loss: 0.0428 - val_acc: 0.9841\n",
            "Epoch 39/50\n",
            "75/75 [==============================] - 8s 105ms/step - loss: 0.0265 - acc: 0.9902 - val_loss: 0.0408 - val_acc: 0.9838\n",
            "Epoch 40/50\n",
            "75/75 [==============================] - 8s 104ms/step - loss: 0.0325 - acc: 0.9869 - val_loss: 0.0696 - val_acc: 0.9751\n",
            "Epoch 41/50\n",
            "75/75 [==============================] - 8s 106ms/step - loss: 0.0333 - acc: 0.9870 - val_loss: 0.0401 - val_acc: 0.9853\n",
            "Epoch 42/50\n",
            "75/75 [==============================] - 8s 106ms/step - loss: 0.0259 - acc: 0.9898 - val_loss: 0.0405 - val_acc: 0.9851\n",
            "Epoch 43/50\n",
            "75/75 [==============================] - 8s 108ms/step - loss: 0.0262 - acc: 0.9900 - val_loss: 0.0383 - val_acc: 0.9860\n",
            "Epoch 44/50\n",
            "75/75 [==============================] - 8s 109ms/step - loss: 0.0273 - acc: 0.9900 - val_loss: 0.0374 - val_acc: 0.9857\n",
            "Epoch 45/50\n",
            "75/75 [==============================] - 8s 113ms/step - loss: 0.0224 - acc: 0.9918 - val_loss: 0.0452 - val_acc: 0.9852\n",
            "Epoch 46/50\n",
            "75/75 [==============================] - 8s 103ms/step - loss: 0.0254 - acc: 0.9907 - val_loss: 0.0452 - val_acc: 0.9845\n",
            "Epoch 47/50\n",
            "75/75 [==============================] - 8s 104ms/step - loss: 0.0270 - acc: 0.9894 - val_loss: 0.0456 - val_acc: 0.9845\n",
            "Epoch 48/50\n",
            "75/75 [==============================] - 8s 102ms/step - loss: 0.0264 - acc: 0.9898 - val_loss: 0.0432 - val_acc: 0.9847\n",
            "Epoch 49/50\n",
            "75/75 [==============================] - 8s 107ms/step - loss: 0.0247 - acc: 0.9902 - val_loss: 0.0443 - val_acc: 0.9831\n",
            "Epoch 50/50\n",
            "75/75 [==============================] - 8s 104ms/step - loss: 0.0272 - acc: 0.9903 - val_loss: 0.0541 - val_acc: 0.9806\n"
          ],
          "name": "stdout"
        }
      ]
    },
    {
      "cell_type": "code",
      "metadata": {
        "id": "ZZWDCyK87pSa",
        "colab_type": "code",
        "colab": {
          "base_uri": "https://localhost:8080/",
          "height": 317
        },
        "outputId": "30519c60-2e37-43be-cc21-03e870783d33"
      },
      "source": [
        "plt.plot(History.history['loss'])\n",
        "plt.plot(History.history['val_loss'])\n",
        "plt.title('Model Loss')\n",
        "plt.ylabel('Loss')\n",
        "plt.xlabel('Epochs')\n",
        "plt.legend(['train', 'test'])\n",
        "plt.show()"
      ],
      "execution_count": 19,
      "outputs": [
        {
          "output_type": "display_data",
          "data": {
            "image/png": "[encoded data removed]",
            "text/plain": [
              "<Figure size 432x288 with 1 Axes>"
            ]
          },
          "metadata": {
            "tags": []
          }
        }
      ]
    },
    {
      "cell_type": "code",
      "metadata": {
        "id": "IWf8CkhF70md",
        "colab_type": "code",
        "colab": {
          "base_uri": "https://localhost:8080/",
          "height": 317
        },
        "outputId": "27da68f7-5fc4-4c7c-aa2c-8e400961937b"
      },
      "source": [
        "plt.plot(History.history['acc'])\n",
        "plt.plot(History.history['val_acc'])\n",
        "plt.title('Model Accuracy')\n",
        "plt.ylabel('Accuracy')\n",
        "plt.xlabel('Epochs')\n",
        "plt.legend(['train', 'test'])\n",
        "plt.show()"
      ],
      "execution_count": 20,
      "outputs": [
        {
          "output_type": "display_data",
          "data": {
            "image/png": "[encoded data removed]",
            "text/plain": [
              "<Figure size 432x288 with 1 Axes>"
            ]
          },
          "metadata": {
            "tags": []
          }
        }
      ]
    },
    {
      "cell_type": "code",
      "metadata": {
        "id": "pEeLavMZ70rJ",
        "colab_type": "code",
        "colab": {
          "base_uri": "https://localhost:8080/",
          "height": 550
        },
        "outputId": "8696a981-05dd-49fa-d6fc-2be9b2adc0bc"
      },
      "source": [
        "import seaborn as sns\n",
        "Y_pred = model.predict(x_test)\n",
        "\n",
        "Y_pred_classes = np.argmax(Y_pred,axis = 1) \n",
        "\n",
        "Y_true = np.argmax(y_test,axis = 1) \n",
        "\n",
        "confusion_mtx = confusion_matrix(Y_true, Y_pred_classes) \n",
        "\n",
        "f,ax = plt.subplots(figsize=(8, 8))\n",
        "sns.heatmap(confusion_mtx, annot=True, linewidths=0.01,cmap=\"Greens\",linecolor=\"gray\", fmt= '.1f',ax=ax)\n",
        "plt.xlabel(\"Predicted Label\")\n",
        "plt.ylabel(\"True Label\")\n",
        "plt.title(\"Confusion Matrix\")\n",
        "plt.show()"
      ],
      "execution_count": 21,
      "outputs": [
        {
          "output_type": "display_data",
          "data": {
            "image/png": "[encoded data removed]",
            "text/plain": [
              "<Figure size 576x576 with 2 Axes>"
            ]
          },
          "metadata": {
            "tags": []
          }
        }
      ]
    },
    {
      "cell_type": "code",
      "metadata": {
        "id": "_zy29put708S",
        "colab_type": "code",
        "colab": {}
      },
      "source": [
        ""
      ],
      "execution_count": 0,
      "outputs": []
    },
    {
      "cell_type": "code",
      "metadata": {
        "id": "cI6GpA1k70lR",
        "colab_type": "code",
        "colab": {}
      },
      "source": [
        ""
      ],
      "execution_count": 0,
      "outputs": []
    }
  ]
}